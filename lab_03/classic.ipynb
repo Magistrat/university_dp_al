{
 "cells": [
  {
   "cell_type": "code",
   "execution_count": 24,
   "id": "fde207c5-eed5-4816-b4a5-4d09f8b9d0ca",
   "metadata": {},
   "outputs": [],
   "source": [
    "from csv import reader\n",
    "from re import findall\n",
    "\n",
    "import numpy as np\n",
    "\n",
    "\n",
    "def method_one():\n",
    "    data = []\n",
    "    with open(\"random.txt\") as f:\n",
    "        for line in f:\n",
    "            data.append([float(x) for x in line.split()])\n",
    "\n",
    "def method_two():\n",
    "    file = open(\"random.txt\", \"r\")\n",
    "    data = [map(float, line.split(\"\\t\")) for line in file]\n",
    "\n",
    "def method_three():\n",
    "    file = open(\"random.txt\")\n",
    "    values = file.read().split(\"\\n\")\n",
    "    data = []\n",
    "\n",
    "    for key in values:\n",
    "        value = findall(r\"[-+]?\\d*\\.\\d+|\\d+\", key)\n",
    "        if value != []:\n",
    "            data.append(value)\n",
    "\n",
    "def method_four():\n",
    "    with open(\"random.txt\") as f:\n",
    "        data = [map(float, row) for row in reader(f, delimiter='\\t')]\n",
    "\n",
    "def method_five():\n",
    "    data = np.loadtxt(\"random.txt\", delimiter='\\t', dtype=np.float64)"
   ]
  },
  {
   "cell_type": "code",
   "execution_count": 25,
   "id": "a8c743fa-6115-4e66-a990-6ba468afb708",
   "metadata": {},
   "outputs": [
    {
     "name": "stdout",
     "output_type": "stream",
     "text": [
      "6.6 ms ± 54.3 µs per loop (mean ± std. dev. of 7 runs, 100 loops each)\n",
      "3 ms ± 36 µs per loop (mean ± std. dev. of 7 runs, 100 loops each)\n",
      "8.85 ms ± 62.6 µs per loop (mean ± std. dev. of 7 runs, 100 loops each)\n",
      "4.19 ms ± 70.7 µs per loop (mean ± std. dev. of 7 runs, 100 loops each)\n",
      "2.72 ms ± 40.3 µs per loop (mean ± std. dev. of 7 runs, 100 loops each)\n"
     ]
    }
   ],
   "source": [
    "%timeit Res1 = method_one()\n",
    "%timeit Res2 = method_two()\n",
    "%timeit Res3 = method_three()\n",
    "%timeit Res4 = method_four()\n",
    "%timeit Res5 = method_five()"
   ]
  },
  {
   "cell_type": "code",
   "execution_count": null,
   "id": "e45c546f-5480-433a-8517-b34e0f6edad1",
   "metadata": {},
   "outputs": [],
   "source": []
  }
 ],
 "metadata": {
  "kernelspec": {
   "display_name": "Python 3 (ipykernel)",
   "language": "python",
   "name": "python3"
  },
  "language_info": {
   "codemirror_mode": {
    "name": "ipython",
    "version": 3
   },
   "file_extension": ".py",
   "mimetype": "text/x-python",
   "name": "python",
   "nbconvert_exporter": "python",
   "pygments_lexer": "ipython3",
   "version": "3.11.5"
  }
 },
 "nbformat": 4,
 "nbformat_minor": 5
}
