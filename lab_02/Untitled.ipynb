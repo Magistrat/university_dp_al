{
 "cells": [
  {
   "cell_type": "code",
   "execution_count": 1,
   "id": "e37c045e-fbeb-4e76-97fb-634fc805d623",
   "metadata": {},
   "outputs": [
    {
     "name": "stdout",
     "output_type": "stream",
     "text": [
      "123\n"
     ]
    }
   ],
   "source": [
    "print('123')"
   ]
  },
  {
   "cell_type": "code",
   "execution_count": 3,
   "id": "d2ceca81-f452-42a4-8497-1c106d4c4a2b",
   "metadata": {},
   "outputs": [
    {
     "name": "stdout",
     "output_type": "stream",
     "text": [
      "Help on built-in function len in module builtins:\n",
      "\n",
      "len(obj, /)\n",
      "    Return the number of items in a container.\n",
      "\n"
     ]
    }
   ],
   "source": [
    "help(len)"
   ]
  },
  {
   "cell_type": "code",
   "execution_count": 4,
   "id": "2a8d1b3b-060b-4447-8236-92ead7945fa4",
   "metadata": {},
   "outputs": [],
   "source": [
    "def get_len(object):\n",
    "    \"Выводит длину объекта\"\n",
    "    print(len(object))"
   ]
  },
  {
   "cell_type": "code",
   "execution_count": 5,
   "id": "46ef9da7-20dc-42be-a6ff-4d8d760c69c3",
   "metadata": {},
   "outputs": [
    {
     "data": {
      "text/plain": [
       "\u001b[0;31mSignature:\u001b[0m \u001b[0mget_len\u001b[0m\u001b[0;34m(\u001b[0m\u001b[0mobject\u001b[0m\u001b[0;34m)\u001b[0m\u001b[0;34m\u001b[0m\u001b[0;34m\u001b[0m\u001b[0m\n",
       "\u001b[0;31mDocstring:\u001b[0m Выводит длину объекта\n",
       "\u001b[0;31mFile:\u001b[0m      /var/folders/85/dnffnd211cbffc5jnc11bv5m0000gn/T/ipykernel_73218/1974032982.py\n",
       "\u001b[0;31mType:\u001b[0m      function"
      ]
     },
     "metadata": {},
     "output_type": "display_data"
    }
   ],
   "source": [
    "get_len?"
   ]
  },
  {
   "cell_type": "code",
   "execution_count": 6,
   "id": "70766582-ad01-425e-bea0-e97f39b4da0c",
   "metadata": {},
   "outputs": [
    {
     "data": {
      "text/plain": [
       "\u001b[0;31mSignature:\u001b[0m \u001b[0mget_len\u001b[0m\u001b[0;34m(\u001b[0m\u001b[0mobject\u001b[0m\u001b[0;34m)\u001b[0m\u001b[0;34m\u001b[0m\u001b[0;34m\u001b[0m\u001b[0m\n",
       "\u001b[0;31mSource:\u001b[0m   \n",
       "\u001b[0;32mdef\u001b[0m \u001b[0mget_len\u001b[0m\u001b[0;34m(\u001b[0m\u001b[0mobject\u001b[0m\u001b[0;34m)\u001b[0m\u001b[0;34m:\u001b[0m\u001b[0;34m\u001b[0m\n",
       "\u001b[0;34m\u001b[0m    \u001b[0;34m\"Выводит длину объекта\"\u001b[0m\u001b[0;34m\u001b[0m\n",
       "\u001b[0;34m\u001b[0m    \u001b[0mprint\u001b[0m\u001b[0;34m(\u001b[0m\u001b[0mlen\u001b[0m\u001b[0;34m(\u001b[0m\u001b[0mobject\u001b[0m\u001b[0;34m)\u001b[0m\u001b[0;34m)\u001b[0m\u001b[0;34m\u001b[0m\u001b[0;34m\u001b[0m\u001b[0m\n",
       "\u001b[0;31mFile:\u001b[0m      /var/folders/85/dnffnd211cbffc5jnc11bv5m0000gn/T/ipykernel_73218/1974032982.py\n",
       "\u001b[0;31mType:\u001b[0m      function"
      ]
     },
     "metadata": {},
     "output_type": "display_data"
    }
   ],
   "source": [
    "get_len??"
   ]
  },
  {
   "cell_type": "code",
   "execution_count": 8,
   "id": "4d8f9e7f-6c8b-4235-9155-63144202494b",
   "metadata": {},
   "outputs": [
    {
     "name": "stdout",
     "output_type": "stream",
     "text": [
      "457 µs ± 1.32 µs per loop (mean ± std. dev. of 7 runs, 1,000 loops each)\n"
     ]
    }
   ],
   "source": [
    "%timeit L = [i*i for i in range(10000)]"
   ]
  },
  {
   "cell_type": "code",
   "execution_count": 9,
   "id": "3abb93e4-4f07-4bb4-b866-390152c98bb8",
   "metadata": {},
   "outputs": [
    {
     "name": "stdout",
     "output_type": "stream",
     "text": [
      "Untitled.ipynb\n"
     ]
    }
   ],
   "source": [
    "!ls"
   ]
  },
  {
   "cell_type": "code",
   "execution_count": 10,
   "id": "bf46f23a-a6f7-40fe-adc4-75e6e872354b",
   "metadata": {},
   "outputs": [],
   "source": [
    "!cd ~"
   ]
  },
  {
   "cell_type": "code",
   "execution_count": 12,
   "id": "ac2883a6-08a3-4aaa-86b5-de564257373c",
   "metadata": {},
   "outputs": [
    {
     "name": "stdout",
     "output_type": "stream",
     "text": [
      "zsh:cd:1: no such file or directory: !ls/PycharmProjects/university_dp_al/lab_02\n"
     ]
    }
   ],
   "source": [
    "!cd ~ !ls"
   ]
  },
  {
   "cell_type": "code",
   "execution_count": 13,
   "id": "7dadafbc-ee2c-4f6d-a648-5aa625929f53",
   "metadata": {},
   "outputs": [],
   "source": [
    "!cd /"
   ]
  },
  {
   "cell_type": "code",
   "execution_count": 15,
   "id": "49bdaaef-2a4c-416d-ada3-0449e6b26098",
   "metadata": {},
   "outputs": [
    {
     "name": "stdout",
     "output_type": "stream",
     "text": [
      "\u001b[34mApplications\u001b[m\u001b[m \u001b[34mUsers\u001b[m\u001b[m        \u001b[34mcores\u001b[m\u001b[m        \u001b[35mhome\u001b[m\u001b[m         \u001b[34msbin\u001b[m\u001b[m         \u001b[35mvar\u001b[m\u001b[m\n",
      "\u001b[34mLibrary\u001b[m\u001b[m      \u001b[34mVolumes\u001b[m\u001b[m      \u001b[34mdev\u001b[m\u001b[m          \u001b[34mopt\u001b[m\u001b[m          \u001b[35mtmp\u001b[m\u001b[m\n",
      "\u001b[34mSystem\u001b[m\u001b[m       \u001b[34mbin\u001b[m\u001b[m          \u001b[35metc\u001b[m\u001b[m          \u001b[34mprivate\u001b[m\u001b[m      \u001b[34musr\u001b[m\u001b[m\n"
     ]
    }
   ],
   "source": [
    "!ls /"
   ]
  },
  {
   "cell_type": "code",
   "execution_count": 16,
   "id": "f858c512-b3e9-4df2-a3ad-9bce01dc0aee",
   "metadata": {},
   "outputs": [
    {
     "name": "stdout",
     "output_type": "stream",
     "text": [
      "Untitled.ipynb\n"
     ]
    }
   ],
   "source": [
    "!cd\n",
    "!ls"
   ]
  },
  {
   "cell_type": "code",
   "execution_count": 18,
   "id": "ad5814ec-c1d3-4c0f-9156-3ee8b90d3b61",
   "metadata": {},
   "outputs": [
    {
     "name": "stdout",
     "output_type": "stream",
     "text": [
      "total 16\n",
      "drwxr-xr-x  20 root  wheel   640 Sep 16 05:47 \u001b[34m.\u001b[m\u001b[m\n",
      "drwxr-xr-x  20 root  wheel   640 Sep 16 05:47 \u001b[34m..\u001b[m\u001b[m\n",
      "lrwxr-xr-x   1 root  admin    36 Sep 16 05:47 \u001b[35m.VolumeIcon.icns\u001b[m\u001b[m -> System/Volumes/Data/.VolumeIcon.icns\n",
      "----------   1 root  admin     0 Sep 16 05:47 .file\n",
      "drwxr-xr-x   2 root  wheel    64 Sep 16 05:47 \u001b[34m.vol\u001b[m\u001b[m\n",
      "drwxrwxr-x  77 root  admin  2464 Dec  4 17:41 \u001b[34mApplications\u001b[m\u001b[m\n",
      "drwxr-xr-x  67 root  wheel  2144 Oct  2 14:48 \u001b[34mLibrary\u001b[m\u001b[m\n",
      "drwxr-xr-x@  9 root  wheel   288 Sep 16 05:47 \u001b[34mSystem\u001b[m\u001b[m\n",
      "drwxr-xr-x   5 root  admin   160 Sep 16 05:47 \u001b[34mUsers\u001b[m\u001b[m\n",
      "drwxr-xr-x   4 root  wheel   128 Dec  1 00:55 \u001b[34mVolumes\u001b[m\u001b[m\n",
      "drwxr-xr-x@ 38 root  wheel  1216 Sep 16 05:47 \u001b[34mbin\u001b[m\u001b[m\n",
      "drwxr-xr-x   2 root  wheel    64 Jan  1  2020 \u001b[34mcores\u001b[m\u001b[m\n",
      "dr-xr-xr-x   3 root  wheel  7903 Nov 27 09:04 \u001b[34mdev\u001b[m\u001b[m\n",
      "lrwxr-xr-x@  1 root  wheel    11 Sep 16 05:47 \u001b[35metc\u001b[m\u001b[m -> private/etc\n",
      "lrwxr-xr-x   1 root  wheel    25 Nov 27 09:04 \u001b[35mhome\u001b[m\u001b[m -> /System/Volumes/Data/home\n",
      "drwxr-xr-x   2 root  wheel    64 Jan  1  2020 \u001b[34mopt\u001b[m\u001b[m\n",
      "drwxr-xr-x   6 root  wheel   192 Nov 27 09:04 \u001b[34mprivate\u001b[m\u001b[m\n",
      "drwxr-xr-x@ 65 root  wheel  2080 Sep 16 05:47 \u001b[34msbin\u001b[m\u001b[m\n",
      "lrwxr-xr-x@  1 root  wheel    11 Sep 16 05:47 \u001b[35mtmp\u001b[m\u001b[m -> private/tmp\n",
      "drwxr-xr-x@ 11 root  wheel   352 Sep 16 05:47 \u001b[34musr\u001b[m\u001b[m\n",
      "lrwxr-xr-x@  1 root  wheel    11 Sep 16 05:47 \u001b[35mvar\u001b[m\u001b[m -> private/var\n"
     ]
    }
   ],
   "source": [
    "!ls -la /"
   ]
  },
  {
   "cell_type": "code",
   "execution_count": 20,
   "id": "c32db06a-5cb3-47a8-8db0-a3946c585bc8",
   "metadata": {},
   "outputs": [
    {
     "name": "stdout",
     "output_type": "stream",
     "text": [
      "123\n"
     ]
    }
   ],
   "source": [
    "!echo 123"
   ]
  },
  {
   "cell_type": "code",
   "execution_count": 21,
   "id": "f6dd71fa-bd02-4aca-8d77-6397549944d8",
   "metadata": {},
   "outputs": [],
   "source": [
    "!echo 123 > 123.txt"
   ]
  },
  {
   "cell_type": "code",
   "execution_count": 22,
   "id": "06c84879-7aa5-40fe-bfa0-072918553678",
   "metadata": {},
   "outputs": [
    {
     "name": "stdout",
     "output_type": "stream",
     "text": [
      "123.txt        Untitled.ipynb\n"
     ]
    }
   ],
   "source": [
    "!ls"
   ]
  },
  {
   "cell_type": "code",
   "execution_count": null,
   "id": "b4c908bf-df1b-4113-9d85-89f9f7674d02",
   "metadata": {},
   "outputs": [
    {
     "name": "stdout",
     "output_type": "stream",
     "text": [
      "\u001b7\u001b[?47h\u001b[1;24r\u001b[1;1H\u001b[J\u001b[7m  UW PICO 5.09                           New Buffer                             \u001b[m\u001b[23;1H\u001b[K\u001b[24;1H\u001b[K\u001b[23;1H\u001b[7m^\u001b[m\u001b[7mG\u001b[m Get Help  \u001b[7m^\u001b[m\u001b[7mO\u001b[m WriteOut  \u001b[7m^\u001b[m\u001b[7mR\u001b[m Read File \u001b[7m^\u001b[m\u001b[7mY\u001b[m Prev Pg   \u001b[7m^\u001b[m\u001b[7mK\u001b[m Cut Text  \u001b[7m^\u001b[m\u001b[7mC\u001b[m Cur Pos   \u001b[K\u001b[24;1H\u001b[7m^\u001b[m\u001b[7mX\u001b[m Exit      \u001b[7m^\u001b[m\u001b[7mJ\u001b[m Justify   \u001b[7m^\u001b[m\u001b[7mW\u001b[m Where is  \u001b[7m^\u001b[m\u001b[7mV\u001b[m Next Pg   \u001b[7m^\u001b[m\u001b[7mU\u001b[m UnCut Text\u001b[7m^\u001b[m\u001b[7mT\u001b[m To Spell  \u001b[K\u001b[3;1H\u001b[22;1H                                                                                \u001b[22;33H\u001b[7m[ Reading file ]\u001b[m\u001b[22;1H                                                                                \u001b[22;33H\u001b[7m[ Read 1 line ]\u001b[m\u001b[1;1H\u001b[J\u001b[7m  UW PICO 5.09                         File: 123.txt                            \u001b[m\u001b[3;1H123\u001b[23;1H\u001b[K\u001b[24;1H\u001b[K\u001b[23;1H\u001b[7m^\u001b[m\u001b[7mG\u001b[m Get Help  \u001b[7m^\u001b[m\u001b[7mO\u001b[m WriteOut  \u001b[7m^\u001b[m\u001b[7mR\u001b[m Read File \u001b[7m^\u001b[m\u001b[7mY\u001b[m Prev Pg   \u001b[7m^\u001b[m\u001b[7mK\u001b[m Cut Text  \u001b[7m^\u001b[m\u001b[7mC\u001b[m Cur Pos   \u001b[K\u001b[24;1H\u001b[7m^\u001b[m\u001b[7mX\u001b[m Exit      \u001b[7m^\u001b[m\u001b[7mJ\u001b[m Justify   \u001b[7m^\u001b[m\u001b[7mW\u001b[m Where is  \u001b[7m^\u001b[m\u001b[7mV\u001b[m Next Pg   \u001b[7m^\u001b[m\u001b[7mU\u001b[m UnCut Text\u001b[7m^\u001b[m\u001b[7mT\u001b[m To Spell  \u001b[K\u001b[3;1H"
     ]
    }
   ],
   "source": [
    "!nano 123.txt"
   ]
  },
  {
   "cell_type": "code",
   "execution_count": null,
   "id": "1e8fea82-18a2-4773-8c1b-d346c674932d",
   "metadata": {},
   "outputs": [],
   "source": []
  }
 ],
 "metadata": {
  "kernelspec": {
   "display_name": "Python 3 (ipykernel)",
   "language": "python",
   "name": "python3"
  },
  "language_info": {
   "codemirror_mode": {
    "name": "ipython",
    "version": 3
   },
   "file_extension": ".py",
   "mimetype": "text/x-python",
   "name": "python",
   "nbconvert_exporter": "python",
   "pygments_lexer": "ipython3",
   "version": "3.11.5"
  }
 },
 "nbformat": 4,
 "nbformat_minor": 5
}
